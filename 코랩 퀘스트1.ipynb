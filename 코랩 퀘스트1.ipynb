{
  "nbformat": 4,
  "nbformat_minor": 0,
  "metadata": {
    "colab": {
      "provenance": [],
      "authorship_tag": "ABX9TyOtEaV7HkP/JRtGkkTc8g82",
      "include_colab_link": true
    },
    "kernelspec": {
      "name": "python3",
      "display_name": "Python 3"
    },
    "language_info": {
      "name": "python"
    }
  },
  "cells": [
    {
      "cell_type": "markdown",
      "metadata": {
        "id": "view-in-github",
        "colab_type": "text"
      },
      "source": [
        "<a href=\"https://colab.research.google.com/github/hyeong777/test1/blob/main/%EC%BD%94%EB%9E%A9%20%ED%80%98%EC%8A%A4%ED%8A%B81.ipynb\" target=\"_parent\"><img src=\"https://colab.research.google.com/assets/colab-badge.svg\" alt=\"Open In Colab\"/></a>"
      ]
    },
    {
      "cell_type": "code",
      "execution_count": null,
      "metadata": {
        "id": "lgPsurrGQX6F",
        "colab": {
          "base_uri": "https://localhost:8080/"
        },
        "outputId": "93c271c1-f4b9-4002-eec2-ecf4c2847685"
      },
      "outputs": [
        {
          "output_type": "stream",
          "name": "stdout",
          "text": [
            "단어를 입력하세요:아리랑\n",
            "입력된 단어는 회문이 아닙니다.\n"
          ]
        }
      ],
      "source": [
        "word = str(input(\"단어를 입력하세요:\"))\n",
        "if word[0] == word[-1]:\n",
        "  print(\"뒤집힌 단어는:\", word[-1])\n",
        "  print(\"입력단어는 회문입니다.\", word[-1])\n",
        "\n",
        "else:\n",
        "  print(\"입력된 단어는 회문이 아닙니다.\")\n",
        "\n"
      ]
    }
  ]
}